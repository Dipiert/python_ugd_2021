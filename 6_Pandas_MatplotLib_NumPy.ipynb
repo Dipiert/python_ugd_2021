{
  "nbformat": 4,
  "nbformat_minor": 0,
  "metadata": {
    "colab": {
      "name": "Copy of 6_Pandas/MatplotLib/NumPy.ipynb",
      "provenance": [],
      "collapsed_sections": []
    },
    "kernelspec": {
      "name": "python3",
      "display_name": "Python 3"
    }
  },
  "cells": [
    {
      "cell_type": "markdown",
      "metadata": {
        "id": "KBvNGEHujbqp"
      },
      "source": [
        "Docs oficiales\n",
        "\n",
        "\n",
        "*   https://pandas.pydata.org/docs/\n",
        "*   https://matplotlib.org/stable/contents.html\n",
        "*   https://numpy.org/doc/stable/\n",
        "\n",
        "\n",
        "\n"
      ]
    },
    {
      "cell_type": "markdown",
      "metadata": {
        "id": "aHb8bYUZGdbO"
      },
      "source": [
        "# Ejemplo integrador"
      ]
    },
    {
      "cell_type": "markdown",
      "metadata": {
        "id": "1MsCgdLxg8Uy"
      },
      "source": [
        "Código preparatorio"
      ]
    },
    {
      "cell_type": "code",
      "metadata": {
        "id": "drvICXpogqfT"
      },
      "source": [
        "import sys, os\n",
        "import matplotlib.pyplot as plt\n",
        "HOUSING_PATH = \"datasets\""
      ],
      "execution_count": null,
      "outputs": []
    },
    {
      "cell_type": "markdown",
      "metadata": {
        "id": "LO62mNBPhEc8"
      },
      "source": [
        "Nos traemos un dataset público. Del libro \"*Hands-On Machine Learning with Scikit-Learn, Keras, and TensorFlow: Concepts, Tools, and Techniques to Build Intelligent Systems*\" de Aurélien Geron"
      ]
    },
    {
      "cell_type": "code",
      "metadata": {
        "colab": {
          "base_uri": "https://localhost:8080/"
        },
        "id": "Egi1VpufgXCr",
        "outputId": "f8a4c0f5-2ad0-402d-8e71-c9f46f7eb517"
      },
      "source": [
        "if 'google.colab' in sys.modules:\n",
        "        \n",
        "    import tarfile\n",
        "\n",
        "    DOWNLOAD_ROOT = \"https://github.com/ageron/handson-ml2/raw/master/\"\n",
        "    HOUSING_URL = DOWNLOAD_ROOT + \"datasets/housing/housing.tgz\"\n",
        "\n",
        "    def fetch_housing_data(housing_url=HOUSING_URL, housing_path=HOUSING_PATH):\n",
        "        os.makedirs(housing_path, exist_ok=True)\n",
        "        !wget {housing_url} -P {housing_path}\n",
        "        tgz_path = os.path.join(housing_path, \"housing.tgz\")\n",
        "        housing_tgz = tarfile.open(tgz_path)\n",
        "        housing_tgz.extractall(path=housing_path)\n",
        "        housing_tgz.close()\n",
        "\n",
        "    # Corramos la función\n",
        "    fetch_housing_data()\n",
        "\n",
        "else: \n",
        "    print(\"Not running on Google Colab. This cell is did not do anything.\")"
      ],
      "execution_count": null,
      "outputs": [
        {
          "output_type": "stream",
          "text": [
            "--2021-06-25 22:25:24--  https://github.com/ageron/handson-ml2/raw/master/datasets/housing/housing.tgz\n",
            "Resolving github.com (github.com)... 192.30.255.113\n",
            "Connecting to github.com (github.com)|192.30.255.113|:443... connected.\n",
            "HTTP request sent, awaiting response... 302 Found\n",
            "Location: https://raw.githubusercontent.com/ageron/handson-ml2/master/datasets/housing/housing.tgz [following]\n",
            "--2021-06-25 22:25:25--  https://raw.githubusercontent.com/ageron/handson-ml2/master/datasets/housing/housing.tgz\n",
            "Resolving raw.githubusercontent.com (raw.githubusercontent.com)... 185.199.109.133, 185.199.110.133, 185.199.108.133, ...\n",
            "Connecting to raw.githubusercontent.com (raw.githubusercontent.com)|185.199.109.133|:443... connected.\n",
            "HTTP request sent, awaiting response... 200 OK\n",
            "Length: 409488 (400K) [application/octet-stream]\n",
            "Saving to: ‘datasets/housing.tgz’\n",
            "\n",
            "housing.tgz         100%[===================>] 399.89K  --.-KB/s    in 0.02s   \n",
            "\n",
            "2021-06-25 22:25:25 (18.2 MB/s) - ‘datasets/housing.tgz’ saved [409488/409488]\n",
            "\n"
          ],
          "name": "stdout"
        }
      ]
    },
    {
      "cell_type": "markdown",
      "metadata": {
        "id": "R72vKvgzhsJp"
      },
      "source": [
        "Usamos pandas para trabajar con el dataset"
      ]
    },
    {
      "cell_type": "code",
      "metadata": {
        "id": "YIFUq6Exgdpr"
      },
      "source": [
        "import pandas as pd\n",
        "\n",
        "def load_housing_data(housing_path=HOUSING_PATH):\n",
        "    csv_path = os.path.join(housing_path, \"housing.csv\")\n",
        "    return pd.read_csv(csv_path)\n",
        "\n",
        "# The function loads the data as a Pandas DataFrame instance.\n",
        "housing = load_housing_data()"
      ],
      "execution_count": null,
      "outputs": []
    },
    {
      "cell_type": "code",
      "metadata": {
        "colab": {
          "base_uri": "https://localhost:8080/",
          "height": 206
        },
        "id": "cran_GAAgeaA",
        "outputId": "48cbb3d8-066f-478e-9614-76adfbb9901f"
      },
      "source": [
        "housing.head() #head recibe un parámetro opcional n para especificar el número de filas mostradas\n",
        "# Similarmente, housing.tail() retornará las últimas n filas."
      ],
      "execution_count": null,
      "outputs": [
        {
          "output_type": "execute_result",
          "data": {
            "text/html": [
              "<div>\n",
              "<style scoped>\n",
              "    .dataframe tbody tr th:only-of-type {\n",
              "        vertical-align: middle;\n",
              "    }\n",
              "\n",
              "    .dataframe tbody tr th {\n",
              "        vertical-align: top;\n",
              "    }\n",
              "\n",
              "    .dataframe thead th {\n",
              "        text-align: right;\n",
              "    }\n",
              "</style>\n",
              "<table border=\"1\" class=\"dataframe\">\n",
              "  <thead>\n",
              "    <tr style=\"text-align: right;\">\n",
              "      <th></th>\n",
              "      <th>longitude</th>\n",
              "      <th>latitude</th>\n",
              "      <th>housing_median_age</th>\n",
              "      <th>total_rooms</th>\n",
              "      <th>total_bedrooms</th>\n",
              "      <th>population</th>\n",
              "      <th>households</th>\n",
              "      <th>median_income</th>\n",
              "      <th>median_house_value</th>\n",
              "      <th>ocean_proximity</th>\n",
              "    </tr>\n",
              "  </thead>\n",
              "  <tbody>\n",
              "    <tr>\n",
              "      <th>0</th>\n",
              "      <td>-122.23</td>\n",
              "      <td>37.88</td>\n",
              "      <td>41.0</td>\n",
              "      <td>880.0</td>\n",
              "      <td>129.0</td>\n",
              "      <td>322.0</td>\n",
              "      <td>126.0</td>\n",
              "      <td>8.3252</td>\n",
              "      <td>452600.0</td>\n",
              "      <td>NEAR BAY</td>\n",
              "    </tr>\n",
              "    <tr>\n",
              "      <th>1</th>\n",
              "      <td>-122.22</td>\n",
              "      <td>37.86</td>\n",
              "      <td>21.0</td>\n",
              "      <td>7099.0</td>\n",
              "      <td>1106.0</td>\n",
              "      <td>2401.0</td>\n",
              "      <td>1138.0</td>\n",
              "      <td>8.3014</td>\n",
              "      <td>358500.0</td>\n",
              "      <td>NEAR BAY</td>\n",
              "    </tr>\n",
              "    <tr>\n",
              "      <th>2</th>\n",
              "      <td>-122.24</td>\n",
              "      <td>37.85</td>\n",
              "      <td>52.0</td>\n",
              "      <td>1467.0</td>\n",
              "      <td>190.0</td>\n",
              "      <td>496.0</td>\n",
              "      <td>177.0</td>\n",
              "      <td>7.2574</td>\n",
              "      <td>352100.0</td>\n",
              "      <td>NEAR BAY</td>\n",
              "    </tr>\n",
              "    <tr>\n",
              "      <th>3</th>\n",
              "      <td>-122.25</td>\n",
              "      <td>37.85</td>\n",
              "      <td>52.0</td>\n",
              "      <td>1274.0</td>\n",
              "      <td>235.0</td>\n",
              "      <td>558.0</td>\n",
              "      <td>219.0</td>\n",
              "      <td>5.6431</td>\n",
              "      <td>341300.0</td>\n",
              "      <td>NEAR BAY</td>\n",
              "    </tr>\n",
              "    <tr>\n",
              "      <th>4</th>\n",
              "      <td>-122.25</td>\n",
              "      <td>37.85</td>\n",
              "      <td>52.0</td>\n",
              "      <td>1627.0</td>\n",
              "      <td>280.0</td>\n",
              "      <td>565.0</td>\n",
              "      <td>259.0</td>\n",
              "      <td>3.8462</td>\n",
              "      <td>342200.0</td>\n",
              "      <td>NEAR BAY</td>\n",
              "    </tr>\n",
              "  </tbody>\n",
              "</table>\n",
              "</div>"
            ],
            "text/plain": [
              "   longitude  latitude  ...  median_house_value  ocean_proximity\n",
              "0    -122.23     37.88  ...            452600.0         NEAR BAY\n",
              "1    -122.22     37.86  ...            358500.0         NEAR BAY\n",
              "2    -122.24     37.85  ...            352100.0         NEAR BAY\n",
              "3    -122.25     37.85  ...            341300.0         NEAR BAY\n",
              "4    -122.25     37.85  ...            342200.0         NEAR BAY\n",
              "\n",
              "[5 rows x 10 columns]"
            ]
          },
          "metadata": {
            "tags": []
          },
          "execution_count": 9
        }
      ]
    },
    {
      "cell_type": "markdown",
      "metadata": {
        "id": "kVe0XhjkmAG5"
      },
      "source": [
        "A veces ver los primeros o últimos *n* indexs puede no ser representativo del conjunto. En cuyo caso el método `sample()` puede ser útil."
      ]
    },
    {
      "cell_type": "markdown",
      "metadata": {
        "id": "29_Guaj2h28S"
      },
      "source": [
        "El nombre de las columnas puede ser accedido mediante el atributo `columns`"
      ]
    },
    {
      "cell_type": "code",
      "metadata": {
        "colab": {
          "base_uri": "https://localhost:8080/"
        },
        "id": "k7eSk3tGh__W",
        "outputId": "49e46ef0-edfe-4978-fb34-f74e50c7d015"
      },
      "source": [
        "cols = housing.columns \n",
        "print(cols)"
      ],
      "execution_count": null,
      "outputs": [
        {
          "output_type": "stream",
          "text": [
            "Index(['longitude', 'latitude', 'housing_median_age', 'total_rooms',\n",
            "       'total_bedrooms', 'population', 'households', 'median_income',\n",
            "       'median_house_value', 'ocean_proximity'],\n",
            "      dtype='object')\n"
          ],
          "name": "stdout"
        }
      ]
    },
    {
      "cell_type": "markdown",
      "metadata": {
        "id": "MxY-rbttahdn"
      },
      "source": [
        "\n",
        "Las filas pueden ser obtenidas usando el atributo `index`.\n",
        "\n",
        "\n",
        "\n"
      ]
    },
    {
      "cell_type": "code",
      "metadata": {
        "colab": {
          "base_uri": "https://localhost:8080/"
        },
        "id": "d8Q40sVfatZb",
        "outputId": "3a70d30b-a3d3-431b-add4-739daf7e8d40"
      },
      "source": [
        "index = housing.index \n",
        "print(index)"
      ],
      "execution_count": null,
      "outputs": [
        {
          "output_type": "stream",
          "text": [
            "RangeIndex(start=0, stop=20640, step=1)\n"
          ],
          "name": "stdout"
        }
      ]
    },
    {
      "cell_type": "markdown",
      "metadata": {
        "id": "-nST3rvna_8X"
      },
      "source": [
        "Podemos convertir el DataFrame en un array numpy:"
      ]
    },
    {
      "cell_type": "code",
      "metadata": {
        "colab": {
          "base_uri": "https://localhost:8080/"
        },
        "id": "rQQw4VU1bHK9",
        "outputId": "ffc19f4f-4403-4908-df9e-b1c6f5652d74"
      },
      "source": [
        "data = housing.to_numpy()\n",
        "print(data)"
      ],
      "execution_count": null,
      "outputs": [
        {
          "output_type": "stream",
          "text": [
            "[[-122.23 37.88 41.0 ... 8.3252 452600.0 'NEAR BAY']\n",
            " [-122.22 37.86 21.0 ... 8.3014 358500.0 'NEAR BAY']\n",
            " [-122.24 37.85 52.0 ... 7.2574 352100.0 'NEAR BAY']\n",
            " ...\n",
            " [-121.22 39.43 17.0 ... 1.7 92300.0 'INLAND']\n",
            " [-121.32 39.43 18.0 ... 1.8672 84700.0 'INLAND']\n",
            " [-121.24 39.37 16.0 ... 2.3886 89400.0 'INLAND']]\n"
          ],
          "name": "stdout"
        }
      ]
    },
    {
      "cell_type": "code",
      "metadata": {
        "colab": {
          "base_uri": "https://localhost:8080/"
        },
        "id": "uIldyEgLbUKn",
        "outputId": "ce7f2e0f-e63e-4ddd-8cd1-f16e429f10b4"
      },
      "source": [
        "print(issubclass(index.__class__, pd.Index))\n",
        "print(issubclass(cols.__class__, pd.Index))"
      ],
      "execution_count": null,
      "outputs": [
        {
          "output_type": "stream",
          "text": [
            "True\n",
            "True\n"
          ],
          "name": "stdout"
        }
      ]
    },
    {
      "cell_type": "markdown",
      "metadata": {
        "id": "iz_I-oknb1BD"
      },
      "source": [
        "Ambos objetos `Index` y `RangeIndex` son subclases de `Index` y eso permite que podamos realizar operaciones similares con los indexs y las columnas."
      ]
    },
    {
      "cell_type": "markdown",
      "metadata": {
        "id": "ZX5BZ6zQcNov"
      },
      "source": [
        "Existen muchos tipos de objetos index en Pandas. Si no se especifica un índice en particular, Pandas usará un `RangeIndex`. `RangeIndex` es análogo a la función `range()` de Python. La secuencia de valores no se carga en memoria hasta que sea necesario hacerlo. Un `RangeIndex` está definido completamente por su valores de comienzo, final e incremento."
      ]
    },
    {
      "cell_type": "markdown",
      "metadata": {
        "id": "h1cwgT1rcq34"
      },
      "source": [
        "Cuando es posible, los objetos `Index` están implementados usando hash tables. Lo que permite accederlos rápidamente. Son similares a los sets de Python porque soportan operaciones como intersección y unión. Son distintos porque están ordenados y pueden tener entradas duplicadas."
      ]
    },
    {
      "cell_type": "markdown",
      "metadata": {
        "id": "hZ4EK36pfApR"
      },
      "source": [
        "Para saber más sobre el DataFrame en general podemos:"
      ]
    },
    {
      "cell_type": "markdown",
      "metadata": {
        "id": "4AFCyo5afEGr"
      },
      "source": [
        "* Conocer los tipos de las columnas usando el atributo `dtypes`\n",
        "\n"
      ]
    },
    {
      "cell_type": "code",
      "metadata": {
        "colab": {
          "base_uri": "https://localhost:8080/"
        },
        "id": "GOzkfc6_ei4A",
        "outputId": "9d290860-a32e-46a1-a534-6f95b3ec1e9d"
      },
      "source": [
        "print(housing.dtypes)"
      ],
      "execution_count": null,
      "outputs": [
        {
          "output_type": "stream",
          "text": [
            "longitude             float64\n",
            "latitude              float64\n",
            "housing_median_age    float64\n",
            "total_rooms           float64\n",
            "total_bedrooms        float64\n",
            "population            float64\n",
            "households            float64\n",
            "median_income         float64\n",
            "median_house_value    float64\n",
            "ocean_proximity        object\n",
            "dtype: object\n"
          ],
          "name": "stdout"
        }
      ]
    },
    {
      "cell_type": "markdown",
      "metadata": {
        "id": "eyANefupeuGp"
      },
      "source": [
        "* Conocer  la cantidad de columnas de cada tipo usando `value_counts`"
      ]
    },
    {
      "cell_type": "code",
      "metadata": {
        "colab": {
          "base_uri": "https://localhost:8080/"
        },
        "id": "TNv3b3jne2HF",
        "outputId": "9a4b3c92-2d95-4728-eed2-ea1d2fa586ad"
      },
      "source": [
        "housing.dtypes.value_counts()"
      ],
      "execution_count": null,
      "outputs": [
        {
          "output_type": "execute_result",
          "data": {
            "text/plain": [
              "float64    9\n",
              "object     1\n",
              "dtype: int64"
            ]
          },
          "metadata": {
            "tags": []
          },
          "execution_count": 16
        }
      ]
    },
    {
      "cell_type": "markdown",
      "metadata": {
        "id": "-YQ4TulEig3f"
      },
      "source": [
        "---\n",
        "\n",
        "El método `info` reúne esa información de las columnas y un poco más:\n",
        "\n",
        "\n",
        "\n"
      ]
    },
    {
      "cell_type": "code",
      "metadata": {
        "colab": {
          "base_uri": "https://localhost:8080/"
        },
        "id": "HBh9oAPnievA",
        "outputId": "ca9a4b03-b1d6-46b8-a881-86415eb6a480"
      },
      "source": [
        "housing.info()"
      ],
      "execution_count": null,
      "outputs": [
        {
          "output_type": "stream",
          "text": [
            "<class 'pandas.core.frame.DataFrame'>\n",
            "RangeIndex: 20640 entries, 0 to 20639\n",
            "Data columns (total 10 columns):\n",
            " #   Column              Non-Null Count  Dtype  \n",
            "---  ------              --------------  -----  \n",
            " 0   longitude           20640 non-null  float64\n",
            " 1   latitude            20640 non-null  float64\n",
            " 2   housing_median_age  20640 non-null  float64\n",
            " 3   total_rooms         20640 non-null  float64\n",
            " 4   total_bedrooms      20433 non-null  float64\n",
            " 5   population          20640 non-null  float64\n",
            " 6   households          20640 non-null  float64\n",
            " 7   median_income       20640 non-null  float64\n",
            " 8   median_house_value  20640 non-null  float64\n",
            " 9   ocean_proximity     20640 non-null  object \n",
            "dtypes: float64(9), object(1)\n",
            "memory usage: 1.6+ MB\n"
          ],
          "name": "stdout"
        }
      ]
    },
    {
      "cell_type": "markdown",
      "metadata": {
        "id": "TuJQ_PjkitXF"
      },
      "source": [
        "- 20640 rows\n",
        "- 10 columnas cada una\n",
        "- excepto por \"ocean_proximity\" las demás son float64\n",
        "- algunas rows no tienen un valor en la columna de `total_bedrooms`"
      ]
    },
    {
      "cell_type": "markdown",
      "metadata": {
        "id": "UKyWz2ie22uH"
      },
      "source": [
        "Se puede obtener un objeto `Series` que indique para cada index si es o no un valor faltante:"
      ]
    },
    {
      "cell_type": "code",
      "metadata": {
        "colab": {
          "base_uri": "https://localhost:8080/"
        },
        "id": "1KnOCpWO3Akp",
        "outputId": "b384bd22-48f4-4018-977c-adffe7ef82a0"
      },
      "source": [
        "housing.total_bedrooms.isna()"
      ],
      "execution_count": null,
      "outputs": [
        {
          "output_type": "execute_result",
          "data": {
            "text/plain": [
              "0        False\n",
              "1        False\n",
              "2        False\n",
              "3        False\n",
              "4        False\n",
              "         ...  \n",
              "20635    False\n",
              "20636    False\n",
              "20637    False\n",
              "20638    False\n",
              "20639    False\n",
              "Name: total_bedrooms, Length: 20640, dtype: bool"
            ]
          },
          "metadata": {
            "tags": []
          },
          "execution_count": 34
        }
      ]
    },
    {
      "cell_type": "markdown",
      "metadata": {
        "id": "s7LqWwA268W-"
      },
      "source": [
        "`isna()` tiene un método que es su complemento: `notna()` y un alias `isnull()`"
      ]
    },
    {
      "cell_type": "markdown",
      "metadata": {
        "id": "bZN5nfKX3Nn3"
      },
      "source": [
        "Es posible reemplazar todos los valores faltantes en un objeto `Series` con el método `fillna()`.\n",
        "\n",
        "Es posible eliminar valores faltantes usando el método `dropna()`.\n",
        "Es posible saber si una columna tiene valores faltantes usando el atributo `hasnans`:\n"
      ]
    },
    {
      "cell_type": "code",
      "metadata": {
        "colab": {
          "base_uri": "https://localhost:8080/"
        },
        "id": "rA_Q_Ln66kWl",
        "outputId": "d4cd6d2c-dca0-4743-e493-06775b643169"
      },
      "source": [
        "print(f\"Longitude, has NaNs? {housing.longitude.hasnans}\")\n",
        "print(f\"Total bedrooms, has NaNs? {housing.total_bedrooms.hasnans}\")"
      ],
      "execution_count": null,
      "outputs": [
        {
          "output_type": "stream",
          "text": [
            "Longitude, has NaNs? False\n",
            "Total bedrooms, has NaNs? True\n"
          ],
          "name": "stdout"
        }
      ]
    },
    {
      "cell_type": "markdown",
      "metadata": {
        "id": "4Stc8_QUfvbT"
      },
      "source": [
        "\n",
        "\n",
        "Notas sobre los dtypes (Data Types):\n",
        "\n",
        "* Pandas usa por defecto 64bits para tipos numéricos, independientemente del \n",
        "tamaño que necesiten para ser almacenados en memoria.\n",
        "* `object` puede contener cualquier tipo válido de Python. Tipicamente, son strings. Una columna de tipo `object` puede tener strings y `floats` (NaN)\n"
      ]
    },
    {
      "cell_type": "markdown",
      "metadata": {
        "id": "8OIRa_KSjGZg"
      },
      "source": [
        "Las columnas pueden ser accedidas como atributos del dataframe o como sin fueran un diccionario. Los sgtes. comandos son equivalentes:"
      ]
    },
    {
      "cell_type": "code",
      "metadata": {
        "colab": {
          "base_uri": "https://localhost:8080/"
        },
        "id": "1lLTLKSXjRWR",
        "outputId": "0c1cd9e6-2d44-4040-a16d-a3253cba12a0"
      },
      "source": [
        "print(housing['ocean_proximity'].unique())\n",
        "print(housing.ocean_proximity.unique())"
      ],
      "execution_count": null,
      "outputs": [
        {
          "output_type": "stream",
          "text": [
            "['NEAR BAY' '<1H OCEAN' 'INLAND' 'NEAR OCEAN' 'ISLAND']\n",
            "['NEAR BAY' '<1H OCEAN' 'INLAND' 'NEAR OCEAN' 'ISLAND']\n"
          ],
          "name": "stdout"
        }
      ]
    },
    {
      "cell_type": "markdown",
      "metadata": {
        "id": "Wcr43jkjjadx"
      },
      "source": [
        "Cuántas veces aparece cada valor en una columna? Podemos usar lo que usamos para contar los tipos:"
      ]
    },
    {
      "cell_type": "code",
      "metadata": {
        "colab": {
          "base_uri": "https://localhost:8080/"
        },
        "id": "ZrsfVzYrjoJv",
        "outputId": "819f6d07-c2e7-4ea8-bea1-65d2d34c8668"
      },
      "source": [
        "print(housing.ocean_proximity.value_counts())"
      ],
      "execution_count": null,
      "outputs": [
        {
          "output_type": "stream",
          "text": [
            "<1H OCEAN     9136\n",
            "INLAND        6551\n",
            "NEAR OCEAN    2658\n",
            "NEAR BAY      2290\n",
            "ISLAND           5\n",
            "Name: ocean_proximity, dtype: int64\n"
          ],
          "name": "stdout"
        }
      ]
    },
    {
      "cell_type": "code",
      "metadata": {
        "colab": {
          "base_uri": "https://localhost:8080/"
        },
        "id": "PSPS38majvur",
        "outputId": "be20e4ee-1cd0-4bda-b0e5-1b8726cb41bd"
      },
      "source": [
        "# O en una versión normalizada\n",
        "print(housing.ocean_proximity.value_counts(normalize=True))"
      ],
      "execution_count": null,
      "outputs": [
        {
          "output_type": "stream",
          "text": [
            "<1H OCEAN     0.442636\n",
            "INLAND        0.317393\n",
            "NEAR OCEAN    0.128779\n",
            "NEAR BAY      0.110950\n",
            "ISLAND        0.000242\n",
            "Name: ocean_proximity, dtype: float64\n"
          ],
          "name": "stdout"
        }
      ]
    },
    {
      "cell_type": "markdown",
      "metadata": {
        "id": "MSwB0vE_hkEg"
      },
      "source": [
        "\n",
        "Como lo hemos visto en clases previas, la selección de una sola columna de un DataFrame retorna un objeto `Series`. Este objeto es una estructura unidimensional compuesta por el index y la data. Obviamente se pueden crear objetos Series por fuera de un DataFrame pero no es lo común.\n",
        "\n",
        "¿Qué tan distinto es un `DataFrame` de un objeto `Series`?\n"
      ]
    },
    {
      "cell_type": "code",
      "metadata": {
        "colab": {
          "base_uri": "https://localhost:8080/"
        },
        "id": "vRdEWzulkTHw",
        "outputId": "92a60311-ecfa-4572-dcd1-f062f368aff4"
      },
      "source": [
        "series_attrs_methods = set(dir(pd.Series))\n",
        "df_attrs_methods = set(dir(pd.DataFrame))\n",
        "print(f\"series_attrs_methods#: {len(series_attrs_methods)}\")\n",
        "print(f\"df_attrs_methods#: {len(df_attrs_methods)}\")\n",
        "\n",
        "print(f\"common attrs and methods#: {len(series_attrs_methods & df_attrs_methods)}\")\n",
        "\n",
        "print(f\"\\nPandas version: {pd.__version__}\")"
      ],
      "execution_count": null,
      "outputs": [
        {
          "output_type": "stream",
          "text": [
            "series_attrs_methods#: 425\n",
            "df_attrs_methods#: 427\n",
            "common attrs and methods#: 372\n",
            "\n",
            "Pandas version: 1.1.5\n"
          ],
          "name": "stdout"
        }
      ]
    },
    {
      "cell_type": "markdown",
      "metadata": {
        "id": "MLKVlLqGj5Jz"
      },
      "source": [
        "Para columnas numéricas, podemos conseguir descriptivos estadísticos fácilmente:"
      ]
    },
    {
      "cell_type": "code",
      "metadata": {
        "colab": {
          "base_uri": "https://localhost:8080/",
          "height": 300
        },
        "id": "MtX3gxoKkHOF",
        "outputId": "c48d2321-f43e-4a2e-abd8-a561e3d5e942"
      },
      "source": [
        "housing.describe()"
      ],
      "execution_count": null,
      "outputs": [
        {
          "output_type": "execute_result",
          "data": {
            "text/html": [
              "<div>\n",
              "<style scoped>\n",
              "    .dataframe tbody tr th:only-of-type {\n",
              "        vertical-align: middle;\n",
              "    }\n",
              "\n",
              "    .dataframe tbody tr th {\n",
              "        vertical-align: top;\n",
              "    }\n",
              "\n",
              "    .dataframe thead th {\n",
              "        text-align: right;\n",
              "    }\n",
              "</style>\n",
              "<table border=\"1\" class=\"dataframe\">\n",
              "  <thead>\n",
              "    <tr style=\"text-align: right;\">\n",
              "      <th></th>\n",
              "      <th>longitude</th>\n",
              "      <th>latitude</th>\n",
              "      <th>housing_median_age</th>\n",
              "      <th>total_rooms</th>\n",
              "      <th>total_bedrooms</th>\n",
              "      <th>population</th>\n",
              "      <th>households</th>\n",
              "      <th>median_income</th>\n",
              "      <th>median_house_value</th>\n",
              "    </tr>\n",
              "  </thead>\n",
              "  <tbody>\n",
              "    <tr>\n",
              "      <th>count</th>\n",
              "      <td>20640.000000</td>\n",
              "      <td>20640.000000</td>\n",
              "      <td>20640.000000</td>\n",
              "      <td>20640.000000</td>\n",
              "      <td>20433.000000</td>\n",
              "      <td>20640.000000</td>\n",
              "      <td>20640.000000</td>\n",
              "      <td>20640.000000</td>\n",
              "      <td>20640.000000</td>\n",
              "    </tr>\n",
              "    <tr>\n",
              "      <th>mean</th>\n",
              "      <td>-119.569704</td>\n",
              "      <td>35.631861</td>\n",
              "      <td>28.639486</td>\n",
              "      <td>2635.763081</td>\n",
              "      <td>537.870553</td>\n",
              "      <td>1425.476744</td>\n",
              "      <td>499.539680</td>\n",
              "      <td>3.870671</td>\n",
              "      <td>206855.816909</td>\n",
              "    </tr>\n",
              "    <tr>\n",
              "      <th>std</th>\n",
              "      <td>2.003532</td>\n",
              "      <td>2.135952</td>\n",
              "      <td>12.585558</td>\n",
              "      <td>2181.615252</td>\n",
              "      <td>421.385070</td>\n",
              "      <td>1132.462122</td>\n",
              "      <td>382.329753</td>\n",
              "      <td>1.899822</td>\n",
              "      <td>115395.615874</td>\n",
              "    </tr>\n",
              "    <tr>\n",
              "      <th>min</th>\n",
              "      <td>-124.350000</td>\n",
              "      <td>32.540000</td>\n",
              "      <td>1.000000</td>\n",
              "      <td>2.000000</td>\n",
              "      <td>1.000000</td>\n",
              "      <td>3.000000</td>\n",
              "      <td>1.000000</td>\n",
              "      <td>0.499900</td>\n",
              "      <td>14999.000000</td>\n",
              "    </tr>\n",
              "    <tr>\n",
              "      <th>25%</th>\n",
              "      <td>-121.800000</td>\n",
              "      <td>33.930000</td>\n",
              "      <td>18.000000</td>\n",
              "      <td>1447.750000</td>\n",
              "      <td>296.000000</td>\n",
              "      <td>787.000000</td>\n",
              "      <td>280.000000</td>\n",
              "      <td>2.563400</td>\n",
              "      <td>119600.000000</td>\n",
              "    </tr>\n",
              "    <tr>\n",
              "      <th>50%</th>\n",
              "      <td>-118.490000</td>\n",
              "      <td>34.260000</td>\n",
              "      <td>29.000000</td>\n",
              "      <td>2127.000000</td>\n",
              "      <td>435.000000</td>\n",
              "      <td>1166.000000</td>\n",
              "      <td>409.000000</td>\n",
              "      <td>3.534800</td>\n",
              "      <td>179700.000000</td>\n",
              "    </tr>\n",
              "    <tr>\n",
              "      <th>75%</th>\n",
              "      <td>-118.010000</td>\n",
              "      <td>37.710000</td>\n",
              "      <td>37.000000</td>\n",
              "      <td>3148.000000</td>\n",
              "      <td>647.000000</td>\n",
              "      <td>1725.000000</td>\n",
              "      <td>605.000000</td>\n",
              "      <td>4.743250</td>\n",
              "      <td>264725.000000</td>\n",
              "    </tr>\n",
              "    <tr>\n",
              "      <th>max</th>\n",
              "      <td>-114.310000</td>\n",
              "      <td>41.950000</td>\n",
              "      <td>52.000000</td>\n",
              "      <td>39320.000000</td>\n",
              "      <td>6445.000000</td>\n",
              "      <td>35682.000000</td>\n",
              "      <td>6082.000000</td>\n",
              "      <td>15.000100</td>\n",
              "      <td>500001.000000</td>\n",
              "    </tr>\n",
              "  </tbody>\n",
              "</table>\n",
              "</div>"
            ],
            "text/plain": [
              "          longitude      latitude  ...  median_income  median_house_value\n",
              "count  20640.000000  20640.000000  ...   20640.000000        20640.000000\n",
              "mean    -119.569704     35.631861  ...       3.870671       206855.816909\n",
              "std        2.003532      2.135952  ...       1.899822       115395.615874\n",
              "min     -124.350000     32.540000  ...       0.499900        14999.000000\n",
              "25%     -121.800000     33.930000  ...       2.563400       119600.000000\n",
              "50%     -118.490000     34.260000  ...       3.534800       179700.000000\n",
              "75%     -118.010000     37.710000  ...       4.743250       264725.000000\n",
              "max     -114.310000     41.950000  ...      15.000100       500001.000000\n",
              "\n",
              "[8 rows x 9 columns]"
            ]
          },
          "metadata": {
            "tags": []
          },
          "execution_count": 27
        }
      ]
    },
    {
      "cell_type": "markdown",
      "metadata": {
        "id": "7OOo9yF51snr"
      },
      "source": [
        "\n",
        "Se pueden usar estas medidas de manera independiente:"
      ]
    },
    {
      "cell_type": "code",
      "metadata": {
        "colab": {
          "base_uri": "https://localhost:8080/"
        },
        "id": "gCrRnswO1yDx",
        "outputId": "68c859ee-cbd9-464e-86a3-5c93774281b9"
      },
      "source": [
        "print(\"Total rooms:\")\n",
        "print(f\"Min: {housing.total_rooms.min()}\")\n",
        "print(f\"Max: {housing.total_rooms.max()}\")\n",
        "print(f\"Mean: {housing.total_rooms.mean()}\")\n",
        "print(f\"Median: {housing.total_rooms.median()}\")\n",
        "print(f\"Std: {housing.total_rooms.std()}\")"
      ],
      "execution_count": null,
      "outputs": [
        {
          "output_type": "stream",
          "text": [
            "Total rooms:\n",
            "Min: 2.0\n",
            "Max: 39320.0\n",
            "Mean: 2635.7630813953488\n",
            "Median: 2127.0\n",
            "Std: 2181.615251582787\n"
          ],
          "name": "stdout"
        }
      ]
    },
    {
      "cell_type": "markdown",
      "metadata": {
        "id": "48XnWZje2bRE"
      },
      "source": [
        "Los resultados son distintos si se invoca `describe()` sobre un columna de tipo `object`:"
      ]
    },
    {
      "cell_type": "code",
      "metadata": {
        "colab": {
          "base_uri": "https://localhost:8080/"
        },
        "id": "csfPEHeV2jZz",
        "outputId": "5ac8cf82-e1d7-470a-adc1-590d578894c5"
      },
      "source": [
        "housing.ocean_proximity.describe()"
      ],
      "execution_count": null,
      "outputs": [
        {
          "output_type": "execute_result",
          "data": {
            "text/plain": [
              "count         20640\n",
              "unique            5\n",
              "top       <1H OCEAN\n",
              "freq           9136\n",
              "Name: ocean_proximity, dtype: object"
            ]
          },
          "metadata": {
            "tags": []
          },
          "execution_count": 30
        }
      ]
    },
    {
      "cell_type": "markdown",
      "metadata": {
        "id": "tshbnO8XkMs2"
      },
      "source": [
        "Automáticamente excluye valores `NaN`. Chequear columna `count` de `total_bedrooms`"
      ]
    },
    {
      "cell_type": "markdown",
      "metadata": {
        "id": "XgsmKABzk18v"
      },
      "source": [
        "Se puede ordenar la tabla para ver los distritos que toman valores extremos."
      ]
    },
    {
      "cell_type": "code",
      "metadata": {
        "colab": {
          "base_uri": "https://localhost:8080/",
          "height": 424
        },
        "id": "HBBT_1Rjk7Qa",
        "outputId": "51de91e3-e3ec-4736-ed8c-47bc1392a2e6"
      },
      "source": [
        "housing.sort_values(by='median_income', ascending=False)"
      ],
      "execution_count": null,
      "outputs": [
        {
          "output_type": "execute_result",
          "data": {
            "text/html": [
              "<div>\n",
              "<style scoped>\n",
              "    .dataframe tbody tr th:only-of-type {\n",
              "        vertical-align: middle;\n",
              "    }\n",
              "\n",
              "    .dataframe tbody tr th {\n",
              "        vertical-align: top;\n",
              "    }\n",
              "\n",
              "    .dataframe thead th {\n",
              "        text-align: right;\n",
              "    }\n",
              "</style>\n",
              "<table border=\"1\" class=\"dataframe\">\n",
              "  <thead>\n",
              "    <tr style=\"text-align: right;\">\n",
              "      <th></th>\n",
              "      <th>longitude</th>\n",
              "      <th>latitude</th>\n",
              "      <th>housing_median_age</th>\n",
              "      <th>total_rooms</th>\n",
              "      <th>total_bedrooms</th>\n",
              "      <th>population</th>\n",
              "      <th>households</th>\n",
              "      <th>median_income</th>\n",
              "      <th>median_house_value</th>\n",
              "      <th>ocean_proximity</th>\n",
              "    </tr>\n",
              "  </thead>\n",
              "  <tbody>\n",
              "    <tr>\n",
              "      <th>4352</th>\n",
              "      <td>-118.37</td>\n",
              "      <td>34.10</td>\n",
              "      <td>37.0</td>\n",
              "      <td>407.0</td>\n",
              "      <td>67.0</td>\n",
              "      <td>100.0</td>\n",
              "      <td>47.0</td>\n",
              "      <td>15.0001</td>\n",
              "      <td>500001.0</td>\n",
              "      <td>&lt;1H OCEAN</td>\n",
              "    </tr>\n",
              "    <tr>\n",
              "      <th>10673</th>\n",
              "      <td>-117.85</td>\n",
              "      <td>33.62</td>\n",
              "      <td>13.0</td>\n",
              "      <td>5192.0</td>\n",
              "      <td>658.0</td>\n",
              "      <td>1865.0</td>\n",
              "      <td>662.0</td>\n",
              "      <td>15.0001</td>\n",
              "      <td>500001.0</td>\n",
              "      <td>&lt;1H OCEAN</td>\n",
              "    </tr>\n",
              "    <tr>\n",
              "      <th>8849</th>\n",
              "      <td>-118.40</td>\n",
              "      <td>34.08</td>\n",
              "      <td>52.0</td>\n",
              "      <td>3815.0</td>\n",
              "      <td>439.0</td>\n",
              "      <td>1266.0</td>\n",
              "      <td>413.0</td>\n",
              "      <td>15.0001</td>\n",
              "      <td>500001.0</td>\n",
              "      <td>&lt;1H OCEAN</td>\n",
              "    </tr>\n",
              "    <tr>\n",
              "      <th>4606</th>\n",
              "      <td>-118.33</td>\n",
              "      <td>34.07</td>\n",
              "      <td>52.0</td>\n",
              "      <td>1482.0</td>\n",
              "      <td>171.0</td>\n",
              "      <td>531.0</td>\n",
              "      <td>161.0</td>\n",
              "      <td>15.0001</td>\n",
              "      <td>500001.0</td>\n",
              "      <td>&lt;1H OCEAN</td>\n",
              "    </tr>\n",
              "    <tr>\n",
              "      <th>5257</th>\n",
              "      <td>-118.49</td>\n",
              "      <td>34.06</td>\n",
              "      <td>42.0</td>\n",
              "      <td>2861.0</td>\n",
              "      <td>360.0</td>\n",
              "      <td>829.0</td>\n",
              "      <td>310.0</td>\n",
              "      <td>15.0001</td>\n",
              "      <td>500001.0</td>\n",
              "      <td>&lt;1H OCEAN</td>\n",
              "    </tr>\n",
              "    <tr>\n",
              "      <th>...</th>\n",
              "      <td>...</td>\n",
              "      <td>...</td>\n",
              "      <td>...</td>\n",
              "      <td>...</td>\n",
              "      <td>...</td>\n",
              "      <td>...</td>\n",
              "      <td>...</td>\n",
              "      <td>...</td>\n",
              "      <td>...</td>\n",
              "      <td>...</td>\n",
              "    </tr>\n",
              "    <tr>\n",
              "      <th>3249</th>\n",
              "      <td>-119.99</td>\n",
              "      <td>36.09</td>\n",
              "      <td>23.0</td>\n",
              "      <td>333.0</td>\n",
              "      <td>92.0</td>\n",
              "      <td>198.0</td>\n",
              "      <td>55.0</td>\n",
              "      <td>0.4999</td>\n",
              "      <td>100000.0</td>\n",
              "      <td>INLAND</td>\n",
              "    </tr>\n",
              "    <tr>\n",
              "      <th>3258</th>\n",
              "      <td>-122.89</td>\n",
              "      <td>39.42</td>\n",
              "      <td>16.0</td>\n",
              "      <td>411.0</td>\n",
              "      <td>114.0</td>\n",
              "      <td>26.0</td>\n",
              "      <td>19.0</td>\n",
              "      <td>0.4999</td>\n",
              "      <td>73500.0</td>\n",
              "      <td>INLAND</td>\n",
              "    </tr>\n",
              "    <tr>\n",
              "      <th>6343</th>\n",
              "      <td>-117.75</td>\n",
              "      <td>34.06</td>\n",
              "      <td>52.0</td>\n",
              "      <td>62.0</td>\n",
              "      <td>9.0</td>\n",
              "      <td>44.0</td>\n",
              "      <td>16.0</td>\n",
              "      <td>0.4999</td>\n",
              "      <td>112500.0</td>\n",
              "      <td>INLAND</td>\n",
              "    </tr>\n",
              "    <tr>\n",
              "      <th>5213</th>\n",
              "      <td>-118.28</td>\n",
              "      <td>33.93</td>\n",
              "      <td>52.0</td>\n",
              "      <td>117.0</td>\n",
              "      <td>33.0</td>\n",
              "      <td>74.0</td>\n",
              "      <td>45.0</td>\n",
              "      <td>0.4999</td>\n",
              "      <td>90600.0</td>\n",
              "      <td>&lt;1H OCEAN</td>\n",
              "    </tr>\n",
              "    <tr>\n",
              "      <th>20091</th>\n",
              "      <td>-120.19</td>\n",
              "      <td>38.07</td>\n",
              "      <td>43.0</td>\n",
              "      <td>102.0</td>\n",
              "      <td>19.0</td>\n",
              "      <td>44.0</td>\n",
              "      <td>13.0</td>\n",
              "      <td>0.4999</td>\n",
              "      <td>162500.0</td>\n",
              "      <td>INLAND</td>\n",
              "    </tr>\n",
              "  </tbody>\n",
              "</table>\n",
              "<p>20640 rows × 10 columns</p>\n",
              "</div>"
            ],
            "text/plain": [
              "       longitude  latitude  ...  median_house_value  ocean_proximity\n",
              "4352     -118.37     34.10  ...            500001.0        <1H OCEAN\n",
              "10673    -117.85     33.62  ...            500001.0        <1H OCEAN\n",
              "8849     -118.40     34.08  ...            500001.0        <1H OCEAN\n",
              "4606     -118.33     34.07  ...            500001.0        <1H OCEAN\n",
              "5257     -118.49     34.06  ...            500001.0        <1H OCEAN\n",
              "...          ...       ...  ...                 ...              ...\n",
              "3249     -119.99     36.09  ...            100000.0           INLAND\n",
              "3258     -122.89     39.42  ...             73500.0           INLAND\n",
              "6343     -117.75     34.06  ...            112500.0           INLAND\n",
              "5213     -118.28     33.93  ...             90600.0        <1H OCEAN\n",
              "20091    -120.19     38.07  ...            162500.0           INLAND\n",
              "\n",
              "[20640 rows x 10 columns]"
            ]
          },
          "metadata": {
            "tags": []
          },
          "execution_count": 5
        }
      ]
    },
    {
      "cell_type": "markdown",
      "metadata": {
        "id": "6uUvE_AMlYTf"
      },
      "source": [
        "Podemos agrupar rows dependiendo del valor de una variable dada. Por ej, podemos ver como cambia  el valor medio de las columnas según la variable `ocean_proximity` "
      ]
    },
    {
      "cell_type": "code",
      "metadata": {
        "colab": {
          "base_uri": "https://localhost:8080/",
          "height": 238
        },
        "id": "UupqGLMSlooj",
        "outputId": "0593c001-c33b-4520-c528-072ea192f8d4"
      },
      "source": [
        "housing.groupby(by='ocean_proximity').mean()"
      ],
      "execution_count": null,
      "outputs": [
        {
          "output_type": "execute_result",
          "data": {
            "text/html": [
              "<div>\n",
              "<style scoped>\n",
              "    .dataframe tbody tr th:only-of-type {\n",
              "        vertical-align: middle;\n",
              "    }\n",
              "\n",
              "    .dataframe tbody tr th {\n",
              "        vertical-align: top;\n",
              "    }\n",
              "\n",
              "    .dataframe thead th {\n",
              "        text-align: right;\n",
              "    }\n",
              "</style>\n",
              "<table border=\"1\" class=\"dataframe\">\n",
              "  <thead>\n",
              "    <tr style=\"text-align: right;\">\n",
              "      <th></th>\n",
              "      <th>longitude</th>\n",
              "      <th>latitude</th>\n",
              "      <th>housing_median_age</th>\n",
              "      <th>total_rooms</th>\n",
              "      <th>total_bedrooms</th>\n",
              "      <th>population</th>\n",
              "      <th>households</th>\n",
              "      <th>median_income</th>\n",
              "      <th>median_house_value</th>\n",
              "    </tr>\n",
              "    <tr>\n",
              "      <th>ocean_proximity</th>\n",
              "      <th></th>\n",
              "      <th></th>\n",
              "      <th></th>\n",
              "      <th></th>\n",
              "      <th></th>\n",
              "      <th></th>\n",
              "      <th></th>\n",
              "      <th></th>\n",
              "      <th></th>\n",
              "    </tr>\n",
              "  </thead>\n",
              "  <tbody>\n",
              "    <tr>\n",
              "      <th>&lt;1H OCEAN</th>\n",
              "      <td>-118.847766</td>\n",
              "      <td>34.560577</td>\n",
              "      <td>29.279225</td>\n",
              "      <td>2628.343586</td>\n",
              "      <td>546.539185</td>\n",
              "      <td>1520.290499</td>\n",
              "      <td>517.744965</td>\n",
              "      <td>4.230682</td>\n",
              "      <td>240084.285464</td>\n",
              "    </tr>\n",
              "    <tr>\n",
              "      <th>INLAND</th>\n",
              "      <td>-119.732990</td>\n",
              "      <td>36.731829</td>\n",
              "      <td>24.271867</td>\n",
              "      <td>2717.742787</td>\n",
              "      <td>533.881619</td>\n",
              "      <td>1391.046252</td>\n",
              "      <td>477.447565</td>\n",
              "      <td>3.208996</td>\n",
              "      <td>124805.392001</td>\n",
              "    </tr>\n",
              "    <tr>\n",
              "      <th>ISLAND</th>\n",
              "      <td>-118.354000</td>\n",
              "      <td>33.358000</td>\n",
              "      <td>42.400000</td>\n",
              "      <td>1574.600000</td>\n",
              "      <td>420.400000</td>\n",
              "      <td>668.000000</td>\n",
              "      <td>276.600000</td>\n",
              "      <td>2.744420</td>\n",
              "      <td>380440.000000</td>\n",
              "    </tr>\n",
              "    <tr>\n",
              "      <th>NEAR BAY</th>\n",
              "      <td>-122.260694</td>\n",
              "      <td>37.801057</td>\n",
              "      <td>37.730131</td>\n",
              "      <td>2493.589520</td>\n",
              "      <td>514.182819</td>\n",
              "      <td>1230.317467</td>\n",
              "      <td>488.616157</td>\n",
              "      <td>4.172885</td>\n",
              "      <td>259212.311790</td>\n",
              "    </tr>\n",
              "    <tr>\n",
              "      <th>NEAR OCEAN</th>\n",
              "      <td>-119.332555</td>\n",
              "      <td>34.738439</td>\n",
              "      <td>29.347254</td>\n",
              "      <td>2583.700903</td>\n",
              "      <td>538.615677</td>\n",
              "      <td>1354.008653</td>\n",
              "      <td>501.244545</td>\n",
              "      <td>4.005785</td>\n",
              "      <td>249433.977427</td>\n",
              "    </tr>\n",
              "  </tbody>\n",
              "</table>\n",
              "</div>"
            ],
            "text/plain": [
              "                  longitude   latitude  ...  median_income  median_house_value\n",
              "ocean_proximity                         ...                                   \n",
              "<1H OCEAN       -118.847766  34.560577  ...       4.230682       240084.285464\n",
              "INLAND          -119.732990  36.731829  ...       3.208996       124805.392001\n",
              "ISLAND          -118.354000  33.358000  ...       2.744420       380440.000000\n",
              "NEAR BAY        -122.260694  37.801057  ...       4.172885       259212.311790\n",
              "NEAR OCEAN      -119.332555  34.738439  ...       4.005785       249433.977427\n",
              "\n",
              "[5 rows x 9 columns]"
            ]
          },
          "metadata": {
            "tags": []
          },
          "execution_count": 29
        }
      ]
    },
    {
      "cell_type": "markdown",
      "metadata": {
        "id": "SkUxVTMxl6bJ"
      },
      "source": [
        "Por último, podemos computar estadísticas de impliquen más de una variable. Por ej, el coeficiente de correlación de Pearson. \n",
        "No veremos una definición formal (quizá la tengan de la materia de estadística) pero diremos que el coeficiente de Pearson de dos variables $X$ e $Y$, escrito como $\\hat{\\rho_{XY}}$ es una estimación del coeficiente de correlación entre las variables.\n",
        "Sus valores extremos son -1 y 1 para una (anti-)correlación perfecta. \n",
        "PERO si el valor es 0, no significa que las variables no estén correlacionadas.\n",
        "Como ejemplo, ver esta imagen de [Wikipedia](https://en.wikipedia.org/wiki/Pearson_correlation_coefficient):\n",
        "\n",
        "<img src=\"https://upload.wikimedia.org/wikipedia/commons/d/d4/Correlation_examples2.svg\">\n",
        "\n",
        "Los valores encima de cada figura indican el coeficiente de Pearson."
      ]
    },
    {
      "cell_type": "markdown",
      "metadata": {
        "id": "1GVps9krn27e"
      },
      "source": [
        "La correlación entre todos los pares de variables es fácilmente computable con Pandas"
      ]
    },
    {
      "cell_type": "code",
      "metadata": {
        "colab": {
          "base_uri": "https://localhost:8080/"
        },
        "id": "sSXkrFbaorxN",
        "outputId": "e13269ad-6a8e-402a-8957-d8681e89ab70"
      },
      "source": [
        "corr_matrix = housing.corr()\n",
        "# Qué tamaño esperan que tenga la matrix? Por qué?\n",
        "print(corr_matrix.shape)"
      ],
      "execution_count": null,
      "outputs": [
        {
          "output_type": "stream",
          "text": [
            "(9, 9)\n"
          ],
          "name": "stdout"
        }
      ]
    },
    {
      "cell_type": "markdown",
      "metadata": {
        "id": "bsYfMdWxo9YH"
      },
      "source": [
        "Podemos imprimir la matriz"
      ]
    },
    {
      "cell_type": "code",
      "metadata": {
        "colab": {
          "base_uri": "https://localhost:8080/"
        },
        "id": "vke1fT30o6CO",
        "outputId": "f3b825a7-973e-4228-b6a6-a9ff6c6c9da7"
      },
      "source": [
        "print(corr_matrix)"
      ],
      "execution_count": null,
      "outputs": [
        {
          "output_type": "stream",
          "text": [
            "                    longitude  latitude  ...  median_income  median_house_value\n",
            "longitude            1.000000 -0.924664  ...      -0.015176           -0.045967\n",
            "latitude            -0.924664  1.000000  ...      -0.079809           -0.144160\n",
            "housing_median_age  -0.108197  0.011173  ...      -0.119034            0.105623\n",
            "total_rooms          0.044568 -0.036100  ...       0.198050            0.134153\n",
            "total_bedrooms       0.069608 -0.066983  ...      -0.007723            0.049686\n",
            "population           0.099773 -0.108785  ...       0.004834           -0.024650\n",
            "households           0.055310 -0.071035  ...       0.013033            0.065843\n",
            "median_income       -0.015176 -0.079809  ...       1.000000            0.688075\n",
            "median_house_value  -0.045967 -0.144160  ...       0.688075            1.000000\n",
            "\n",
            "[9 rows x 9 columns]\n"
          ],
          "name": "stdout"
        }
      ]
    },
    {
      "cell_type": "markdown",
      "metadata": {
        "id": "cYPpi0yOpB1v"
      },
      "source": [
        "Pero más interesante, podemos graficarla"
      ]
    },
    {
      "cell_type": "code",
      "metadata": {
        "colab": {
          "base_uri": "https://localhost:8080/",
          "height": 359
        },
        "id": "ITMiqUPTpEEA",
        "outputId": "8cc032f4-abaa-4363-81a0-db597ddd9564"
      },
      "source": [
        "plt.imshow(corr_matrix)\n",
        "\n",
        "# Set ticks\n",
        "xt = plt.xticks(range(9), housing.columns, ha='right', rotation=45)\n",
        "yt = plt.yticks(range(9), housing.columns, ha='right', rotation=0)\n",
        "\n",
        "# Set colorbar\n",
        "plt.colorbar(label='Pearson CC')"
      ],
      "execution_count": null,
      "outputs": [
        {
          "output_type": "execute_result",
          "data": {
            "text/plain": [
              "<matplotlib.colorbar.Colorbar at 0x7f2a288b4310>"
            ]
          },
          "metadata": {
            "tags": []
          },
          "execution_count": 17
        },
        {
          "output_type": "display_data",
          "data": {
            "image/png": "[encoded data removed]",
            "text/plain": [
              "<Figure size 432x288 with 2 Axes>"
            ]
          },
          "metadata": {
            "tags": [],
            "needs_background": "light"
          }
        }
      ]
    },
    {
      "cell_type": "markdown",
      "metadata": {
        "id": "A28QEEQU7wW0"
      },
      "source": [
        "Funciones interesantes de `matplotlib.pyplot`:\n",
        "\n",
        "* plot()\n",
        "* scatter()\n",
        "* hist()\n",
        "* bar()\n",
        "* boxplot()\n",
        "* violinplot()"
      ]
    },
    {
      "cell_type": "code",
      "metadata": {
        "colab": {
          "base_uri": "https://localhost:8080/",
          "height": 297
        },
        "id": "PkDv64YW8bc7",
        "outputId": "9d0fe15f-bfcb-411b-9ce3-0da1ce799b70"
      },
      "source": [
        "plt.scatter(housing.longitude, housing.latitude)\n",
        "plt.xlabel('Longitude')\n",
        "plt.ylabel('Latitude')"
      ],
      "execution_count": null,
      "outputs": [
        {
          "output_type": "execute_result",
          "data": {
            "text/plain": [
              "Text(0, 0.5, 'Latitude')"
            ]
          },
          "metadata": {
            "tags": []
          },
          "execution_count": 20
        },
        {
          "output_type": "display_data",
          "data": {
            "image/png": "[encoded data removed]",
            "text/plain": [
              "<Figure size 432x288 with 1 Axes>"
            ]
          },
          "metadata": {
            "tags": [],
            "needs_background": "light"
          }
        }
      ]
    },
    {
      "cell_type": "markdown",
      "metadata": {
        "id": "oCmx0Mx79i-v"
      },
      "source": [
        "**Ejercicios**"
      ]
    },
    {
      "cell_type": "markdown",
      "metadata": {
        "id": "6OnQix9d9smh"
      },
      "source": [
        "1) Grafiquen al menos un histograma con la/s variable/s que consideren significativas.\n",
        "\n",
        "2) Incluyan otras variables en el plot de `scatter()` usando los argumentos de `color` (o `c`) o `size` (or `s`). También pueden hacer que los gráficos se vean mejor usando puntos semi-transparentes con `alpha`"
      ]
    },
    {
      "cell_type": "markdown",
      "metadata": {
        "id": "iFIgGOr0_cGQ"
      },
      "source": [
        "**Ejemplos**"
      ]
    },
    {
      "cell_type": "code",
      "metadata": {
        "colab": {
          "base_uri": "https://localhost:8080/",
          "height": 283
        },
        "id": "e3Lhoi7H_ja7",
        "outputId": "31b23c79-5068-440e-b230-fea3e68422ac"
      },
      "source": [
        "plt.scatter(housing.longitude, housing.latitude, alpha=0.2)"
      ],
      "execution_count": null,
      "outputs": [
        {
          "output_type": "execute_result",
          "data": {
            "text/plain": [
              "<matplotlib.collections.PathCollection at 0x7ff2ea5bc290>"
            ]
          },
          "metadata": {
            "tags": []
          },
          "execution_count": 34
        },
        {
          "output_type": "display_data",
          "data": {
            "image/png": "[encoded data removed]",
            "text/plain": [
              "<Figure size 432x288 with 1 Axes>"
            ]
          },
          "metadata": {
            "tags": [],
            "needs_background": "light"
          }
        }
      ]
    },
    {
      "cell_type": "markdown",
      "metadata": {
        "id": "Pui323HI_zf3"
      },
      "source": [
        "Se puede ver como unas regiones están más densamente pobladas que otras."
      ]
    },
    {
      "cell_type": "markdown",
      "metadata": {
        "id": "D6f8Jpf2ATaw"
      },
      "source": [
        "**Conclusion**\n",
        "\n",
        "Hemos partido con un archivos csv y llegado a algunas visualizaciones más o menos informativas.\n",
        "Hemos explorado como las variables dependen unas de otras y algunas particularidades en algunas columnas (ej, valores faltantes)\n",
        "Este tipo de análisis exploratorio de los datos es un primer paso requerido en todos los proyectos de Machine Learning y una herramienta poderosa para extraer información a los datos que tengamos."
      ]
    },
    {
      "cell_type": "markdown",
      "metadata": {
        "id": "5C_qXJEbGw9j"
      },
      "source": [
        "---\n",
        "\n",
        "# ¿Dónde conseguir data?\n",
        "\n",
        "## Repositorios públicos\n",
        "\n",
        "[UC Irvine Machine Learning Repository](http://archive.ics.uci.edu/ml/index.php)\n",
        "\n",
        "[Kaggle datasets](https://www.kaggle.com/datasets)\n",
        "\n",
        "[Amazon’s AWS datasets](https://registry.opendata.aws/)\n",
        "\n",
        "## Meta portales\n",
        "[Data Portals](http://dataportals.org/)\n",
        "\n",
        "[OpenDataMonitor](https://opendatamonitor.eu/frontend/web/index.php?r=dashboard%2Findex)\n",
        "\n",
        "[Quandl](https://www.quandl.com/)\n",
        "\n",
        "## Reddit\n",
        "\n",
        "[Datasets](https://www.reddit.com/r/datasets/)"
      ]
    },
    {
      "cell_type": "markdown",
      "metadata": {
        "id": "d9tIFeiNQ1Xn"
      },
      "source": [
        "# Apéndice: Pandas DataFrames"
      ]
    },
    {
      "cell_type": "code",
      "metadata": {
        "colab": {
          "base_uri": "https://localhost:8080/"
        },
        "id": "_8Tn1Li-RFCK",
        "outputId": "4b0d48b6-4ff1-4607-df97-5dfb582a643d"
      },
      "source": [
        "bedrooms_and_rooms = housing[[\"total_bedrooms\", \"total_rooms\"]]\n",
        "print(bedrooms_and_rooms)\n",
        "print(f\"Type: {type(bedrooms_and_rooms)}\")"
      ],
      "execution_count": null,
      "outputs": [
        {
          "output_type": "stream",
          "text": [
            "       total_bedrooms  total_rooms\n",
            "0               129.0        880.0\n",
            "1              1106.0       7099.0\n",
            "2               190.0       1467.0\n",
            "3               235.0       1274.0\n",
            "4               280.0       1627.0\n",
            "...               ...          ...\n",
            "20635           374.0       1665.0\n",
            "20636           150.0        697.0\n",
            "20637           485.0       2254.0\n",
            "20638           409.0       1860.0\n",
            "20639           616.0       2785.0\n",
            "\n",
            "[20640 rows x 2 columns]\n",
            "Type: <class 'pandas.core.frame.DataFrame'>\n"
          ],
          "name": "stdout"
        }
      ]
    }
  ]
}